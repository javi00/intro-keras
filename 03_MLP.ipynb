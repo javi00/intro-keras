{
  "cells": [
    {
      "cell_type": "code",
      "execution_count": 1,
      "metadata": {
        "id": "zoBzIDJCarvq"
      },
      "outputs": [],
      "source": [
        "import numpy as np\n",
        "import keras\n",
        "from keras.datasets import mnist\n",
        "from keras.models import Sequential\n",
        "from keras.layers import Dense\n",
        "from keras.utils import to_categorical"
      ]
    },
    {
      "cell_type": "code",
      "execution_count": 2,
      "metadata": {
        "colab": {
          "base_uri": "https://localhost:8080/"
        },
        "id": "St1dA11iav8s",
        "outputId": "be43dca3-5516-473c-b2ad-05c226aa03ad"
      },
      "outputs": [
        {
          "name": "stdout",
          "output_type": "stream",
          "text": [
            "Downloading data from https://storage.googleapis.com/tensorflow/tf-keras-datasets/mnist.npz\n",
            "11490434/11490434 [==============================] - 11s 1us/step\n"
          ]
        }
      ],
      "source": [
        "# Loading the MNIST dataset\n",
        "(train_data, train_labels), (test_data, test_labels) = mnist.load_data()"
      ]
    },
    {
      "cell_type": "code",
      "execution_count": 3,
      "metadata": {
        "id": "xbWYAPgzazHh"
      },
      "outputs": [],
      "source": [
        "# Preprocessing the data\n",
        "train_data = train_data.reshape(60000, 784)\n",
        "train_data = train_data.astype('float32')\n",
        "train_data /= 255\n",
        "test_data = test_data.reshape(10000, 784)\n",
        "test_data = test_data.astype('float32')\n",
        "test_data /= 255\n",
        "\n",
        "train_labels = to_categorical(train_labels, 10)\n",
        "test_labels = to_categorical(test_labels, 10)"
      ]
    },
    {
      "cell_type": "code",
      "execution_count": 4,
      "metadata": {
        "id": "lK7RX-jna1Cl"
      },
      "outputs": [],
      "source": [
        "# Defining the MLP model\n",
        "model = Sequential()\n",
        "model.add(Dense(512, activation='relu', input_dim=784))\n",
        "model.add(Dense(512, activation='relu'))\n",
        "model.add(Dense(10, activation='softmax'))"
      ]
    },
    {
      "cell_type": "code",
      "execution_count": 5,
      "metadata": {
        "id": "1ikRxa4ca4bb"
      },
      "outputs": [],
      "source": [
        "# Compiling the model\n",
        "model.compile(optimizer='adam', loss='categorical_crossentropy', metrics=['accuracy'])"
      ]
    },
    {
      "cell_type": "code",
      "execution_count": 6,
      "metadata": {
        "colab": {
          "base_uri": "https://localhost:8080/"
        },
        "id": "_6av6EHHa58i",
        "outputId": "37f5feef-6d30-4776-bb53-dc84f4c7f2f5"
      },
      "outputs": [
        {
          "name": "stdout",
          "output_type": "stream",
          "text": [
            "Epoch 1/20\n",
            "469/469 [==============================] - 6s 6ms/step - loss: 0.2161 - accuracy: 0.9365 - val_loss: 0.1067 - val_accuracy: 0.9677\n",
            "Epoch 2/20\n",
            "469/469 [==============================] - 2s 5ms/step - loss: 0.0789 - accuracy: 0.9750 - val_loss: 0.0796 - val_accuracy: 0.9760\n",
            "Epoch 3/20\n",
            "469/469 [==============================] - 2s 5ms/step - loss: 0.0512 - accuracy: 0.9840 - val_loss: 0.0783 - val_accuracy: 0.9739\n",
            "Epoch 4/20\n",
            "469/469 [==============================] - 2s 5ms/step - loss: 0.0365 - accuracy: 0.9883 - val_loss: 0.0631 - val_accuracy: 0.9803\n",
            "Epoch 5/20\n",
            "469/469 [==============================] - 2s 5ms/step - loss: 0.0247 - accuracy: 0.9919 - val_loss: 0.0642 - val_accuracy: 0.9819\n",
            "Epoch 6/20\n",
            "469/469 [==============================] - 2s 5ms/step - loss: 0.0220 - accuracy: 0.9927 - val_loss: 0.0721 - val_accuracy: 0.9804\n",
            "Epoch 7/20\n",
            "469/469 [==============================] - 2s 5ms/step - loss: 0.0212 - accuracy: 0.9928 - val_loss: 0.0734 - val_accuracy: 0.9801\n",
            "Epoch 8/20\n",
            "469/469 [==============================] - 2s 5ms/step - loss: 0.0153 - accuracy: 0.9948 - val_loss: 0.0842 - val_accuracy: 0.9790\n",
            "Epoch 9/20\n",
            "469/469 [==============================] - 2s 5ms/step - loss: 0.0149 - accuracy: 0.9948 - val_loss: 0.0707 - val_accuracy: 0.9808\n",
            "Epoch 10/20\n",
            "469/469 [==============================] - 2s 5ms/step - loss: 0.0145 - accuracy: 0.9951 - val_loss: 0.0778 - val_accuracy: 0.9806\n",
            "Epoch 11/20\n",
            "469/469 [==============================] - 2s 5ms/step - loss: 0.0099 - accuracy: 0.9967 - val_loss: 0.0821 - val_accuracy: 0.9796\n",
            "Epoch 12/20\n",
            "469/469 [==============================] - 2s 5ms/step - loss: 0.0111 - accuracy: 0.9965 - val_loss: 0.0765 - val_accuracy: 0.9831\n",
            "Epoch 13/20\n",
            "469/469 [==============================] - 2s 5ms/step - loss: 0.0103 - accuracy: 0.9966 - val_loss: 0.0822 - val_accuracy: 0.9824\n",
            "Epoch 14/20\n",
            "469/469 [==============================] - 2s 5ms/step - loss: 0.0103 - accuracy: 0.9966 - val_loss: 0.0857 - val_accuracy: 0.9809\n",
            "Epoch 15/20\n",
            "469/469 [==============================] - 2s 5ms/step - loss: 0.0083 - accuracy: 0.9974 - val_loss: 0.0959 - val_accuracy: 0.9805\n",
            "Epoch 16/20\n",
            "469/469 [==============================] - 2s 5ms/step - loss: 0.0100 - accuracy: 0.9967 - val_loss: 0.1009 - val_accuracy: 0.9796\n",
            "Epoch 17/20\n",
            "469/469 [==============================] - 2s 5ms/step - loss: 0.0106 - accuracy: 0.9970 - val_loss: 0.0826 - val_accuracy: 0.9833\n",
            "Epoch 18/20\n",
            "469/469 [==============================] - 2s 5ms/step - loss: 0.0043 - accuracy: 0.9988 - val_loss: 0.0850 - val_accuracy: 0.9837\n",
            "Epoch 19/20\n",
            "469/469 [==============================] - 2s 5ms/step - loss: 0.0059 - accuracy: 0.9983 - val_loss: 0.0825 - val_accuracy: 0.9842\n",
            "Epoch 20/20\n",
            "469/469 [==============================] - 2s 5ms/step - loss: 0.0128 - accuracy: 0.9960 - val_loss: 0.1002 - val_accuracy: 0.9799\n"
          ]
        }
      ],
      "source": [
        "# Fitting the model to the training data\n",
        "history = model.fit(train_data, train_labels, epochs=20, batch_size=128, validation_data=(test_data, test_labels))"
      ]
    },
    {
      "cell_type": "code",
      "execution_count": 7,
      "metadata": {
        "colab": {
          "base_uri": "https://localhost:8080/"
        },
        "id": "0reNEnjRa8NU",
        "outputId": "5e485107-748d-4f3a-9664-e3d10840d3bc"
      },
      "outputs": [
        {
          "name": "stdout",
          "output_type": "stream",
          "text": [
            "313/313 [==============================] - 1s 3ms/step - loss: 0.1002 - accuracy: 0.9799\n",
            "Test Accuracy: 0.9799000024795532\n"
          ]
        }
      ],
      "source": [
        "# Evaluating the model on test data\n",
        "test_loss, test_acc = model.evaluate(test_data, test_labels)\n",
        "print('Test Accuracy:', test_acc)"
      ]
    },
    {
      "cell_type": "code",
      "execution_count": 8,
      "metadata": {
        "colab": {
          "base_uri": "https://localhost:8080/"
        },
        "id": "8TXL-OkGcTt8",
        "outputId": "729a646c-37ca-4a10-c659-3a424b8d4397"
      },
      "outputs": [
        {
          "name": "stdout",
          "output_type": "stream",
          "text": [
            "Model: \"sequential\"\n",
            "_________________________________________________________________\n",
            " Layer (type)                Output Shape              Param #   \n",
            "=================================================================\n",
            " dense (Dense)               (None, 512)               401920    \n",
            "                                                                 \n",
            " dense_1 (Dense)             (None, 512)               262656    \n",
            "                                                                 \n",
            " dense_2 (Dense)             (None, 10)                5130      \n",
            "                                                                 \n",
            "=================================================================\n",
            "Total params: 669,706\n",
            "Trainable params: 669,706\n",
            "Non-trainable params: 0\n",
            "_________________________________________________________________\n"
          ]
        }
      ],
      "source": [
        "model.summary()"
      ]
    },
    {
      "cell_type": "code",
      "execution_count": null,
      "metadata": {
        "id": "5tcPvQrXfeoX"
      },
      "outputs": [],
      "source": []
    }
  ],
  "metadata": {
    "colab": {
      "provenance": []
    },
    "kernelspec": {
      "display_name": "Python 3",
      "name": "python3"
    },
    "language_info": {
      "codemirror_mode": {
        "name": "ipython",
        "version": 3
      },
      "file_extension": ".py",
      "mimetype": "text/x-python",
      "name": "python",
      "nbconvert_exporter": "python",
      "pygments_lexer": "ipython3",
      "version": "3.10.10"
    }
  },
  "nbformat": 4,
  "nbformat_minor": 0
}
